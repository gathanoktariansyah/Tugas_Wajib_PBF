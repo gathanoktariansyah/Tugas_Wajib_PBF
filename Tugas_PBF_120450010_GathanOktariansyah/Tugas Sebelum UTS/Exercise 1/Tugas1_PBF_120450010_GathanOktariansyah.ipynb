{
 "cells": [
  {
   "cell_type": "code",
   "execution_count": 14,
   "id": "fe1d895a-d7f8-4071-929f-9eaa4642b1b6",
   "metadata": {},
   "outputs": [
    {
     "name": "stdout",
     "output_type": "stream",
     "text": [
      "Sm+T`+Sm+T]+Sm+T`+Sm+T]+So+Sq+Td+Sp+Sm+Te+Qr+Qp+Qr+Qp+\n",
      "anaksainsdata2020kece\n"
     ]
    }
   ],
   "source": [
    "def encrypt(pwd):\n",
    "    splitpass = list(pwd)\n",
    "    \n",
    "    asciipass = list()\n",
    "    for char in splitpass:\n",
    "        asciichar = ord(char)\n",
    "        asciipass.append(asciichar)\n",
    "    encryptedpass = \"\"\n",
    "    for num in asciipass:\n",
    "        firstval = num//26 + 80\n",
    "        secondval = num%26 + 90\n",
    "        if firstval > secondval:\n",
    "            thirdval = '-'\n",
    "        else:\n",
    "            thirdval = '+'\n",
    "        \n",
    "        encryptedpass = encryptedpass + chr(firstval) + chr(secondval) + thirdval\n",
    "    return  encryptedpass\n",
    "\n",
    "def decrypt(pwd):\n",
    "    splitpass = [pwd[i:i+3] for i in range(0, len(pwd), 3)]\n",
    "    \n",
    "    asciipass = list()\n",
    "    for word in splitpass:\n",
    "        firstval = ord(word[0]) - 80\n",
    "        scndval = ord(word[1]) - 80\n",
    "        val = 26 * firstval + scndval\n",
    "        asciipass.append(val)\n",
    "    \n",
    "    password = ''\n",
    "    for i in asciipass:\n",
    "        char = chr(i)\n",
    "        password = password + char\n",
    "    return password\n",
    "\n",
    "A = encrypt('anakanakcerdas2020')\n",
    "B = decrypt('Sc-TV-Sc-TS+T[-Sc-TQ+TV-T[-Sf-Sc-T\\-Sc-Qh-Qf-Qh-Qf-TS+Sg-Se-Sg-')\n",
    "\n",
    "print(A)\n",
    "print(B)"
   ]
  }
 ],
 "metadata": {
  "kernelspec": {
   "display_name": "Python 3 (ipykernel)",
   "language": "python",
   "name": "python3"
  },
  "language_info": {
   "codemirror_mode": {
    "name": "ipython",
    "version": 3
   },
   "file_extension": ".py",
   "mimetype": "text/x-python",
   "name": "python",
   "nbconvert_exporter": "python",
   "pygments_lexer": "ipython3",
   "version": "3.9.7"
  }
 },
 "nbformat": 4,
 "nbformat_minor": 5
}
