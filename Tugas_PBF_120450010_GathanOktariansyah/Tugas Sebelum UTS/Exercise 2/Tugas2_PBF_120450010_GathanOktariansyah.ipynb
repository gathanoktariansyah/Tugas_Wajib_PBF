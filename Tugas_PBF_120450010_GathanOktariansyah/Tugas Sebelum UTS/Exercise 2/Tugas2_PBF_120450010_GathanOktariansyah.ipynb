{
 "cells": [
  {
   "cell_type": "code",
   "execution_count": 5,
   "id": "b17cb11f-bac9-4201-a76f-7ada840aaefd",
   "metadata": {},
   "outputs": [
    {
     "name": "stdout",
     "output_type": "stream",
     "text": [
      "Value of The First Number is:  9502561694858652150281747994108545943651521215096841995237040384498740803993469376602031341619585763\n",
      "Value of The Second Number is:  2116068642696162934965789080530992805391900568978958496201555855833896833372295507803936243187061092\n",
      "Result of Addtion 100 Digit First Number Above is:  11618630337554815085247537074639538749043421784075800491438596240332637637365764884405967584806646855\n"
     ]
    }
   ],
   "source": [
    "with open('FirstNumber.txt','r') as a:\n",
    "    ConvertStringA = a.read()\n",
    "    ConvertStringA = int(ConvertStringA)\n",
    "    print('Value of The First Number is: ', ConvertStringA)\n",
    "\n",
    "\n",
    "with open('SecondNumber.txt','r') as b:\n",
    "    ConvertStringB =  b.read()\n",
    "    ConvertStringB = int(ConvertStringB)\n",
    "    print('Value of The Second Number is: ', ConvertStringB)\n",
    "\n",
    "def Count():\n",
    "    return ConvertStringA + ConvertStringB\n",
    "\n",
    "print('Result of Addtion 100 Digit First Number Above is: ', Count())"
   ]
  },
  {
   "cell_type": "code",
   "execution_count": null,
   "id": "92aa6a49-1ee0-441c-8d21-90351dee2f2d",
   "metadata": {},
   "outputs": [],
   "source": []
  }
 ],
 "metadata": {
  "kernelspec": {
   "display_name": "Python 3 (ipykernel)",
   "language": "python",
   "name": "python3"
  },
  "language_info": {
   "codemirror_mode": {
    "name": "ipython",
    "version": 3
   },
   "file_extension": ".py",
   "mimetype": "text/x-python",
   "name": "python",
   "nbconvert_exporter": "python",
   "pygments_lexer": "ipython3",
   "version": "3.9.7"
  }
 },
 "nbformat": 4,
 "nbformat_minor": 5
}
